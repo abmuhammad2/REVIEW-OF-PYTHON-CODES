{
 "cells": [
  {
   "cell_type": "markdown",
   "metadata": {},
   "source": [
    "# DATA SCIENCE CLASS REFRESH"
   ]
  },
  {
   "cell_type": "markdown",
   "metadata": {},
   "source": [
    "# *PYTHON COLLECTIONS MODULE*"
   ]
  },
  {
   "cell_type": "markdown",
   "metadata": {},
   "source": [
    "## Python defaultdict type"
   ]
  },
  {
   "cell_type": "code",
   "execution_count": 2,
   "metadata": {},
   "outputs": [
    {
     "data": {
      "text/plain": [
       "True"
      ]
     },
     "execution_count": 2,
     "metadata": {},
     "output_type": "execute_result"
    }
   ],
   "source": [
    "#Checking if defaultdict is a subclass of dict\n",
    "\n",
    "from collections import defaultdict\n",
    "issubclass(defaultdict, dict)"
   ]
  },
  {
   "cell_type": "code",
   "execution_count": 5,
   "metadata": {},
   "outputs": [
    {
     "data": {
      "text/plain": [
       "defaultdict(list, {'one': 1, 'missing': [], 'missing2': [4]})"
      ]
     },
     "execution_count": 5,
     "metadata": {},
     "output_type": "execute_result"
    }
   ],
   "source": [
    "def_dict = defaultdict(list) # passes list to .default_factory\n",
    "\n",
    "def_dict['one'] = 1   # adds a key-value pair\n",
    "def_dict['missing'] # access a missing key returns an empty list\n",
    "\n",
    "#defaultdict automatically creates a list of vaalues for missing key\n",
    "def_dict['missing2'].append(4) #modify a missing key\n",
    "\n",
    "def_dict"
   ]
  },
  {
   "cell_type": "code",
   "execution_count": 6,
   "metadata": {},
   "outputs": [
    {
     "data": {
      "text/plain": [
       "defaultdict(list, {'segun': 'UNILAG', 'tolu': ['FUTA']})"
      ]
     },
     "execution_count": 6,
     "metadata": {},
     "output_type": "execute_result"
    }
   ],
   "source": [
    "#Example\n",
    "\n",
    "dd_dict = defaultdict(list)\n",
    "dd_dict['segun'] = 'UNILAG'\n",
    "dd_dict['tolu'].append('FUTA')\n",
    "\n",
    "dd_dict"
   ]
  },
  {
   "cell_type": "markdown",
   "metadata": {},
   "source": [
    "NOTE: defaultdict can be used to do the following:\n",
    "    1. Group Items \n",
    "    2. Group Unique Items (Avoid repitition)\n",
    "    3. Counting Items"
   ]
  },
  {
   "cell_type": "code",
   "execution_count": 9,
   "metadata": {},
   "outputs": [
    {
     "name": "stdout",
     "output_type": "stream",
     "text": [
      "defaultdict(<class 'list'>, {'met': ['segun', 'mohammed'], 'mech': ['alimi', 'era'], 'systems': ['zainab']})\n"
     ]
    }
   ],
   "source": [
    "#Grouping Items with defaultdict type: Consider a faculty with the following depts and students\n",
    "\n",
    "faculty = [\n",
    "    ('met', 'segun'),\n",
    "    ('mech', 'alimi'),\n",
    "    ('systems', 'zainab'),\n",
    "    ('met', 'mohammed'),\n",
    "    ('mech', 'era')\n",
    "    ]\n",
    "from collections import defaultdict\n",
    "dd = defaultdict(list) # .default_factory is set to list.\n",
    "for dept, student in faculty: #for loop is to iterate through the faculty list\n",
    "    dd[dept].append(student) #creates the keys for the dept, initializes them to an empty list, and then appends the students to each dept.\n",
    "\n",
    "print(dd)"
   ]
  },
  {
   "cell_type": "code",
   "execution_count": 8,
   "metadata": {},
   "outputs": [
    {
     "name": "stdout",
     "output_type": "stream",
     "text": [
      "defaultdict(<class 'set'>, {'met': {'mohammed', 'segun'}, 'mech': {'era', 'alimi'}, 'systems': {'zainab'}})\n"
     ]
    }
   ],
   "source": [
    "#Grouping Unique Items (Avoiding repitition)\n",
    "\n",
    "faculty = [\n",
    "    ('met', 'segun'),\n",
    "    ('mech', 'alimi'),\n",
    "    ('mech', 'alimi'),\n",
    "    ('systems', 'zainab'),\n",
    "    ('met', 'mohammed'),\n",
    "    ('met', 'mohammed'),\n",
    "    ('mech', 'era')\n",
    "    ]\n",
    "from collections import defaultdict\n",
    "dd = defaultdict(set) # .default_factory is set to set.\n",
    "for dept, student in faculty: #for loop is to iterate through the faculty list\n",
    "    dd[dept].add(student)\n",
    "\n",
    "print(dd)"
   ]
  },
  {
   "cell_type": "code",
   "execution_count": 10,
   "metadata": {},
   "outputs": [
    {
     "name": "stdout",
     "output_type": "stream",
     "text": [
      "defaultdict(<class 'int'>, {'met': 2, 'mech': 2, 'systems': 1})\n"
     ]
    }
   ],
   "source": [
    "#Counting Items\n",
    "\n",
    "from collections import defaultdict\n",
    "\n",
    "faculty = [\n",
    "    ('met', 'segun'),\n",
    "    ('mech', 'alimi'),\n",
    "    ('systems', 'zainab'),\n",
    "    ('met', 'mohammed'),\n",
    "    ('mech', 'era')\n",
    "    ]\n",
    "\n",
    "dd = defaultdict(int) #.default_factory is set to int. Calling int() with no argument, returns the value 0\n",
    "for dept, _ in faculty: #note the underscore in the code/ the dataset needs to be clean (no repeated data).\n",
    "    dd[dept] += 1\n",
    "\n",
    "print(dd)"
   ]
  },
  {
   "cell_type": "code",
   "execution_count": 11,
   "metadata": {},
   "outputs": [
    {
     "name": "stdout",
     "output_type": "stream",
     "text": [
      "defaultdict(<class 'int'>, {'m': 1, 'i': 4, 's': 4, 'p': 2})\n"
     ]
    }
   ],
   "source": [
    "#Counting items like in\n",
    "\n",
    "from collections import defaultdict\n",
    "\n",
    "river = 'mississippi'\n",
    "dd = defaultdict(int)\n",
    "for letter in river:\n",
    "    dd[letter] += 1\n",
    "\n",
    "print(dd)"
   ]
  },
  {
   "cell_type": "code",
   "execution_count": 12,
   "metadata": {},
   "outputs": [
    {
     "name": "stdout",
     "output_type": "stream",
     "text": [
      "The total income from Books is $3970.0\n",
      "The total income from Tutorials is $1940.0\n",
      "The total income from Courses is $7680.0\n"
     ]
    }
   ],
   "source": [
    "#Accumulating Values\n",
    "\n",
    "\"\"\"\n",
    "products = Books, Tutorials, Courses\n",
    "for month July, August, September respectively\n",
    "\"\"\"\n",
    "\n",
    "incomes = [('Books', 1250.00),\n",
    "           ('Books', 1300.00),\n",
    "           ('Books', 1420.00),\n",
    "           ('Tutorials', 560.00),\n",
    "           ('Tutorials', 630.00),\n",
    "           ('Tutorials', 750.00),\n",
    "           ('Courses', 2500.00),\n",
    "           ('Courses', 2430.00),\n",
    "           ('Courses', 2750.00),]\n",
    "\n",
    "from collections import defaultdict\n",
    "\n",
    "dd = defaultdict(float) #.default_factory is set to float.\n",
    "\n",
    "# for loop to accumulate the incomes for each product\n",
    "for product, cost in incomes:\n",
    "    dd[product] += cost\n",
    "\n",
    "# for loop to print the total income for each product    \n",
    "for product, cost in dd.items():\n",
    "    print('The total income from ' + product + ' is $' + str(dd[product]))\n"
   ]
  },
  {
   "cell_type": "markdown",
   "metadata": {},
   "source": [
    "## Python's Counter"
   ]
  },
  {
   "cell_type": "code",
   "execution_count": 13,
   "metadata": {},
   "outputs": [
    {
     "name": "stdout",
     "output_type": "stream",
     "text": [
      "Counter({'i': 4, 's': 4, 'p': 2, 'm': 1})\n"
     ]
    }
   ],
   "source": [
    "#we use Counter() to count in a lot of ways\n",
    "\n",
    "from collections import Counter\n",
    "river = Counter('mississippi')\n",
    "print(river)"
   ]
  },
  {
   "cell_type": "code",
   "execution_count": 14,
   "metadata": {},
   "outputs": [
    {
     "name": "stdout",
     "output_type": "stream",
     "text": [
      "['ade', 'ade', 'ade', 'ade', 'segun', 'segun', 'segun', 'segun', 'segun']\n"
     ]
    }
   ],
   "source": [
    "#using element() function in Counter\n",
    "\n",
    "from collections import Counter\n",
    "count = Counter({'ade':4, 'segun':5})\n",
    "print(list(count.elements()))"
   ]
  },
  {
   "cell_type": "code",
   "execution_count": 15,
   "metadata": {},
   "outputs": [
    {
     "name": "stdout",
     "output_type": "stream",
     "text": [
      "you 4\n",
      "elements 2\n",
      "can 2\n",
      "specify 2\n",
      "a 2\n"
     ]
    }
   ],
   "source": [
    "#using most_common() function in Counter\n",
    "from collections import Counter\n",
    "note = 'If you want elements sorted from largest to smallest, you can specify a reverse True parameter. And instead of comparing the elements themselves, you can compare the results of a function that you specify with key'\n",
    "word_counts = note.split() #converts note to a list of strings\n",
    "word_count = Counter(word_counts) #gives a count of words in the list\n",
    "\n",
    "#print the 5 most common words and their counts\n",
    "for word, count in word_count.most_common(5):\n",
    "    print(word, count)\n"
   ]
  },
  {
   "cell_type": "markdown",
   "metadata": {},
   "source": [
    "## List Comprehensions"
   ]
  },
  {
   "cell_type": "code",
   "execution_count": 16,
   "metadata": {},
   "outputs": [
    {
     "data": {
      "text/plain": [
       "[0, 2, 4, 6, 8]"
      ]
     },
     "execution_count": 16,
     "metadata": {},
     "output_type": "execute_result"
    }
   ],
   "source": [
    "#even_numbers\n",
    "even_numbers = [x for x in range(10) if x % 2 == 0]\n",
    "even_numbers"
   ]
  },
  {
   "cell_type": "code",
   "execution_count": 17,
   "metadata": {},
   "outputs": [
    {
     "data": {
      "text/plain": [
       "[0, 1, 4, 9, 16, 25, 36, 49, 64, 81]"
      ]
     },
     "execution_count": 17,
     "metadata": {},
     "output_type": "execute_result"
    }
   ],
   "source": [
    "#squares\n",
    "squares = [x**2 for x in range(10)]\n",
    "squares"
   ]
  },
  {
   "cell_type": "code",
   "execution_count": 18,
   "metadata": {},
   "outputs": [
    {
     "data": {
      "text/plain": [
       "[0, 4, 16, 36, 64]"
      ]
     },
     "execution_count": 18,
     "metadata": {},
     "output_type": "execute_result"
    }
   ],
   "source": [
    "#even_squares\n",
    "even_squares = [x**2 for x in range(0,10,2)]\n",
    "even_squares"
   ]
  },
  {
   "cell_type": "code",
   "execution_count": 19,
   "metadata": {},
   "outputs": [
    {
     "data": {
      "text/plain": [
       "[0, 4, 16, 36, 64]"
      ]
     },
     "execution_count": 19,
     "metadata": {},
     "output_type": "execute_result"
    }
   ],
   "source": [
    "#even_squares\n",
    "even_squares = [x**2 for x in range(10) if x % 2 == 0]\n",
    "even_squares"
   ]
  },
  {
   "cell_type": "code",
   "execution_count": 22,
   "metadata": {},
   "outputs": [
    {
     "data": {
      "text/plain": [
       "{0: 0, 1: 1, 2: 4, 3: 9, 4: 16, 5: 25}"
      ]
     },
     "execution_count": 22,
     "metadata": {},
     "output_type": "execute_result"
    }
   ],
   "source": [
    "#square_dict\n",
    "square_dict = {x: x**2 for x in range(6)}\n",
    "square_dict"
   ]
  },
  {
   "cell_type": "code",
   "execution_count": 23,
   "metadata": {},
   "outputs": [
    {
     "data": {
      "text/plain": [
       "[0, 0, 0, 0, 0]"
      ]
     },
     "execution_count": 23,
     "metadata": {},
     "output_type": "execute_result"
    }
   ],
   "source": [
    "#if you dont need the value from the list, its conventional to use an underscore as variable (it has same length as even_numbers)\n",
    "zeroes = [0 for _ in even_numbers]\n",
    "zeroes"
   ]
  },
  {
   "cell_type": "code",
   "execution_count": 26,
   "metadata": {},
   "outputs": [],
   "source": [
    "#A list comprehension can include multiple for s\n",
    "pairs = [(x,y)\n",
    "        for x in range(10)\n",
    "        for y in range(10)] #100 pairs (0,0), (0,1)...(9,8), (9,9)\n",
    "\n",
    "increasing_pairs = [(x,y)\n",
    "                    for x in range(10)\n",
    "                    for y in range(x + 1, 10)]\n",
    "# only parts wih x < y; range(lo, hi)\n"
   ]
  },
  {
   "cell_type": "markdown",
   "metadata": {},
   "source": [
    "## Generators"
   ]
  },
  {
   "cell_type": "markdown",
   "metadata": {},
   "source": [
    "\n",
    "Generators are used;\n",
    "- for better memory management and utilization\n",
    "- to produce infinite items\n",
    "- used to pipeline a number of operations\n",
    "\n",
    "Generator functions;\n",
    "- make use of 'yield' keyword (Unlike 'return' for normal functions)\n",
    "- run when 'next()' method is called (unlike normal funcs which run when name of the method is called)\n",
    "- produces items one at a time and only when required ( unlike normal funcs that produce all items at once)\n"
   ]
  },
  {
   "cell_type": "code",
   "execution_count": 4,
   "metadata": {},
   "outputs": [
    {
     "name": "stdout",
     "output_type": "stream",
     "text": [
      "<generator object new at 0x0000021716B62A48>\n"
     ]
    },
    {
     "data": {
      "text/plain": [
       "(1, 'Hello')"
      ]
     },
     "execution_count": 4,
     "metadata": {},
     "output_type": "execute_result"
    }
   ],
   "source": [
    "# using generators and the next() method\n",
    "\n",
    "def new(dict):\n",
    "    for key, value in dict.items():\n",
    "        yield key, value\n",
    "\n",
    "a = {1: 'Hello', 2: 'Pythonista'}\n",
    "b = new(a)\n",
    "print(b) # to show this is a generator object\n",
    "next(b) # to produce the first item"
   ]
  },
  {
   "cell_type": "code",
   "execution_count": 5,
   "metadata": {},
   "outputs": [
    {
     "data": {
      "text/plain": [
       "(2, 'Pythonista')"
      ]
     },
     "execution_count": 5,
     "metadata": {},
     "output_type": "execute_result"
    }
   ],
   "source": [
    "#calling next again prints the next key, value pairs\n",
    "next(b)"
   ]
  },
  {
   "cell_type": "code",
   "execution_count": 6,
   "metadata": {},
   "outputs": [
    {
     "ename": "StopIteration",
     "evalue": "",
     "output_type": "error",
     "traceback": [
      "\u001b[1;31m---------------------------------------------------------------------------\u001b[0m",
      "\u001b[1;31mStopIteration\u001b[0m                             Traceback (most recent call last)",
      "\u001b[1;32m<ipython-input-6-283ad5455fbf>\u001b[0m in \u001b[0;36m<module>\u001b[1;34m\u001b[0m\n\u001b[0;32m      1\u001b[0m \u001b[1;31m#calling next again with no item left in the dict gives a StopIteration error\u001b[0m\u001b[1;33m\u001b[0m\u001b[1;33m\u001b[0m\u001b[1;33m\u001b[0m\u001b[0m\n\u001b[1;32m----> 2\u001b[1;33m \u001b[0mnext\u001b[0m\u001b[1;33m(\u001b[0m\u001b[0mb\u001b[0m\u001b[1;33m)\u001b[0m\u001b[1;33m\u001b[0m\u001b[1;33m\u001b[0m\u001b[0m\n\u001b[0m",
      "\u001b[1;31mStopIteration\u001b[0m: "
     ]
    }
   ],
   "source": [
    "#calling next again with no item left in the dict gives a StopIteration error\n",
    "next(b)"
   ]
  },
  {
   "cell_type": "code",
   "execution_count": 7,
   "metadata": {},
   "outputs": [
    {
     "name": "stdout",
     "output_type": "stream",
     "text": [
      "4\n",
      "16\n"
     ]
    }
   ],
   "source": [
    "#you can use a for loop with generators to print values\n",
    "def exam():\n",
    "    n = 4\n",
    "    yield n\n",
    "    n = n * n\n",
    "    yield n\n",
    "\n",
    "v = exam()\n",
    "for x in v:\n",
    "    print(x)"
   ]
  },
  {
   "cell_type": "code",
   "execution_count": 9,
   "metadata": {},
   "outputs": [
    {
     "name": "stdout",
     "output_type": "stream",
     "text": [
      "0\n",
      "1\n",
      "4\n"
     ]
    }
   ],
   "source": [
    "#Generators\n",
    "my_generator = (x*x for x in range(3))\n",
    "for i in my_generator:\n",
    "    print(i)"
   ]
  },
  {
   "cell_type": "code",
   "execution_count": 10,
   "metadata": {},
   "outputs": [],
   "source": [
    "#you cannot perform the for i in my_generator more than once. This code wont run.\n",
    "for q in my_generator:\n",
    "    print(q)"
   ]
  },
  {
   "cell_type": "code",
   "execution_count": 33,
   "metadata": {},
   "outputs": [
    {
     "data": {
      "text/plain": [
       "1"
      ]
     },
     "execution_count": 33,
     "metadata": {},
     "output_type": "execute_result"
    }
   ],
   "source": [
    "def infinite_sequence():\n",
    "    num = 0\n",
    "    while True:\n",
    "        yield num\n",
    "        num += 1\n",
    "        \n",
    "gen = infinite_sequence()\n",
    "next(gen) #the next func is to check the next iteration\n",
    "next(gen)"
   ]
  },
  {
   "cell_type": "code",
   "execution_count": 16,
   "metadata": {},
   "outputs": [
    {
     "name": "stdout",
     "output_type": "stream",
     "text": [
      "0\n",
      "1\n",
      "1\n",
      "2\n",
      "3\n",
      "5\n",
      "8\n",
      "13\n",
      "21\n",
      "34\n",
      "55\n",
      "89\n"
     ]
    }
   ],
   "source": [
    "#using generators to yield the fibonacci series. \n",
    "\n",
    "#The fibonnaci series is a series of numbers where in each number also called the Fibonacci number is the sum of two preceeding numbers\n",
    "\n",
    "def fibonnaci():\n",
    "    x,y = 0,1\n",
    "    while True:\n",
    "        yield x\n",
    "        x,y =y, x+y    \n",
    "#setting a limit of 100\n",
    "b = fibonnaci()\n",
    "for a in b:\n",
    "    if a > 100:\n",
    "        break\n",
    "    print(a)"
   ]
  },
  {
   "cell_type": "markdown",
   "metadata": {},
   "source": [
    "## Python's random()"
   ]
  },
  {
   "cell_type": "code",
   "execution_count": 38,
   "metadata": {},
   "outputs": [
    {
     "name": "stdout",
     "output_type": "stream",
     "text": [
      "0.3873304111293543\n"
     ]
    }
   ],
   "source": [
    "import random\n",
    "a = random.random()#returns floating point numbers in the range 0 - 1.0\n",
    "print(a)"
   ]
  },
  {
   "cell_type": "code",
   "execution_count": 55,
   "metadata": {},
   "outputs": [
    {
     "data": {
      "text/plain": [
       "4"
      ]
     },
     "execution_count": 55,
     "metadata": {},
     "output_type": "execute_result"
    }
   ],
   "source": [
    "#randrange() can be used to print random numbers in ranges with steps\n",
    "randrange(0,10,2)"
   ]
  },
  {
   "cell_type": "code",
   "execution_count": 57,
   "metadata": {},
   "outputs": [
    {
     "data": {
      "text/plain": [
       "1"
      ]
     },
     "execution_count": 57,
     "metadata": {},
     "output_type": "execute_result"
    }
   ],
   "source": [
    "#randint() can be used to print random integers\n",
    "randint(1,6)"
   ]
  },
  {
   "cell_type": "code",
   "execution_count": 61,
   "metadata": {},
   "outputs": [
    {
     "data": {
      "text/plain": [
       "'Habib'"
      ]
     },
     "execution_count": 61,
     "metadata": {},
     "output_type": "execute_result"
    }
   ],
   "source": [
    "#choice() function for random selection of an item from a list\n",
    "from random import choice\n",
    "friends = ['Muhammed', 'Ikayh', 'Habib', 'Ijebu']\n",
    "selection = choice(friends)\n",
    "selection"
   ]
  },
  {
   "cell_type": "code",
   "execution_count": 63,
   "metadata": {},
   "outputs": [
    {
     "name": "stdout",
     "output_type": "stream",
     "text": [
      "[8, 3, 6]\n"
     ]
    }
   ],
   "source": [
    "#sample()function\n",
    "from random import sample\n",
    "mlist = [1,2,3,4,5,6,7,8,9]\n",
    "print(sample(mlist,3))"
   ]
  },
  {
   "cell_type": "code",
   "execution_count": 65,
   "metadata": {},
   "outputs": [
    {
     "name": "stdout",
     "output_type": "stream",
     "text": [
      "[9, 4, 3]\n"
     ]
    }
   ],
   "source": [
    "#choices()\n",
    "from random import choices\n",
    "mlist = [1,2,3,4,5,6,7,8,9]\n",
    "print(choices(mlist,k=3))"
   ]
  },
  {
   "cell_type": "code",
   "execution_count": 69,
   "metadata": {},
   "outputs": [
    {
     "name": "stdout",
     "output_type": "stream",
     "text": [
      "0.6229016948897019\n",
      "0.6229016948897019\n"
     ]
    }
   ],
   "source": [
    "#random.seed()\n",
    "import random\n",
    "random.seed(5)\n",
    "print(random.random())\n",
    "\n",
    "random.seed(5)\n",
    "print(random.random())"
   ]
  },
  {
   "cell_type": "code",
   "execution_count": 70,
   "metadata": {},
   "outputs": [
    {
     "name": "stdout",
     "output_type": "stream",
     "text": [
      "[5, 3, 9, 8, 2, 4, 7, 1, 6]\n"
     ]
    }
   ],
   "source": [
    "#random.shuffle()\n",
    "mlist = [1,2,3,4,5,6,7,8,9]\n",
    "random.shuffle(mlist)\n",
    "print(mlist)"
   ]
  },
  {
   "cell_type": "code",
   "execution_count": 71,
   "metadata": {},
   "outputs": [
    {
     "name": "stdout",
     "output_type": "stream",
     "text": [
      "10.685896677781153\n"
     ]
    }
   ],
   "source": [
    "#random.uniform(start, end)\n",
    "import random\n",
    "print(random.uniform(10.5,11.0))"
   ]
  },
  {
   "cell_type": "markdown",
   "metadata": {},
   "source": [
    "## OBJECT-ORIENTED PROGRAMMING"
   ]
  },
  {
   "cell_type": "code",
   "execution_count": null,
   "metadata": {},
   "outputs": [
    {
     "name": "stdout",
     "output_type": "stream",
     "text": [
      "\n",
      "WELCOME TO JUMANJI\n",
      "Enter 's' to quit\n",
      "Who's your favorite artiste?\n",
      "WIZKID\n",
      "Which album do you love most?\n",
      "AYO\n",
      "Name = Wizkid\n",
      "Album = Ayo\n",
      "None\n",
      "\n",
      "WELCOME TO JUMANJI\n",
      "Enter 's' to quit\n"
     ]
    }
   ],
   "source": [
    "def make_album(artist, album):\n",
    "    info = {\n",
    "        'Name': artist.title(),\n",
    "        'Album': album.title(),\n",
    "        }\n",
    "    for key, value in info.items():\n",
    "        message = key + ' = ' + value.title()\n",
    "        print(message)\n",
    "\n",
    "while True:\n",
    "    print(\"\\nWELCOME TO JUMANJI\\nEnter 's' to quit\")\n",
    "    name = input(\"Who's your favorite artiste?\\n\")\n",
    "    if name == 's':\n",
    "        break\n",
    "    work = input(\"Which album do you love most?\\n\")\n",
    "    if work == 's':\n",
    "        break\n",
    "   \n",
    "    ad = make_album(name, work)\n",
    "    print(ad)"
   ]
  },
  {
   "cell_type": "code",
   "execution_count": null,
   "metadata": {},
   "outputs": [],
   "source": []
  }
 ],
 "metadata": {
  "kernelspec": {
   "display_name": "Python 3",
   "language": "python",
   "name": "python3"
  },
  "language_info": {
   "codemirror_mode": {
    "name": "ipython",
    "version": 3
   },
   "file_extension": ".py",
   "mimetype": "text/x-python",
   "name": "python",
   "nbconvert_exporter": "python",
   "pygments_lexer": "ipython3",
   "version": "3.7.4"
  }
 },
 "nbformat": 4,
 "nbformat_minor": 2
}
